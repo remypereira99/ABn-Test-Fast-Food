{
 "cells": [
  {
   "cell_type": "markdown",
   "id": "82361782",
   "metadata": {},
   "source": [
    "# Fast Food Marketing Campaign Analysis"
   ]
  },
  {
   "cell_type": "markdown",
   "id": "2ca584ec",
   "metadata": {},
   "source": [
    "## Introduction \n",
    "\n",
    "In this notebook I use Anastasiia Chebotina's ['Fast Food Marketing Campaign A\\B Test'](https://www.kaggle.com/datasets/chebotinaa/fast-food-marketing-campaign-ab-test) dataset from Kaggle to analyse the results of a fictional A/B/n test. The dataset lays out the scenario and task below:\n",
    "\n",
    "### *Scenario*\n",
    "\n",
    "*A fast-food chain plans to add a new burger to its menu. However, they are still undecided between three possible marketing campaigns for promoting the new burger.*\n",
    "\n",
    "<p><img src=\"https://static-prod.adweek.com/wp-content/uploads/2017/09/burger-king-mystery-burger-hed-2017.jpg\" style=\"max-width:350px\"></p>\n",
    "\n",
    "*In order to determine which promotion has the greatest effect on sales, the new burger is introduced at locations in several randomly selected markets. A different promotion is used at each location, and the weekly sales of the new burger are recorded for the first four weeks.*\n",
    "\n",
    "### *Task*\n",
    "\n",
    "*Evaluate A/B testing results and decide which marketing strategy works the best.*\n",
    "\n",
    "### Structure\n",
    "\n",
    "The structure of this notebook is as follows:\n",
    "\n",
    "1. Define hypothesis statement\n",
    "2. Collect data\n",
    "3. Omnibus test\n",
    "4. Post-hoc test\n",
    "5. Conclusions\n",
    "6. References\n",
    "\n",
    "In Section 1 I define the hypothesis statement for the A/B/n test, and determine the most appropriate tests for this hypothesis - ANOVA followed by post-hoc tests.\n",
    "\n",
    "In Section 2, I take a look at the data collected for the experiment. In a real A/B/n test, I would collect the primary data myself. In this case, the data is already provided in the Kaggle dataset, so I use this section to do a brief EDA (Exploratory Data Analysis) to get a feel for the data, and run any necessary cleaning. \n",
    "\n",
    "In Sections 3-5 I test the assumptions for ANOVA, run the test on the three promotions, and display the results along with some visualisations. The tests show that there is a significant difference in sales at stores using the different promotions.\n",
    "\n",
    "In Sections 6-7 I run post-hoc tests to determine whether any of the promotions had a significantly greater effect on sales. The tests reveal that...\n",
    "\n",
    "\n",
    "Finally, in Section 8 I discuss the results and implications of the test."
   ]
  },
  {
   "cell_type": "markdown",
   "id": "94329975",
   "metadata": {},
   "source": [
    "## 1. Define Hypothesis Statement \n",
    "\n",
    "A key component of any A/B/n test is the hypothesis statement. A good hypothesis clearly states what is being changed (the independent variable), what the success metric is (the dependent variable), and what the predicted outcome is. It should help to answer the question 'what do we want to learn from this test?' \n",
    "\n",
    "### Hypothesis Statement\n",
    "\n",
    "For this A/B/n test, I propose the following hypothesis statement:\n",
    "\n",
    "*We believe that at least one of the three marketing promotions will result in significantly higher sales of the burger in the first four weeks across randomly selected stores.* \n",
    "\n",
    "To determine whether this hypothesis statement is true, I will run two tests. For both tests, the significance level will be set at 0.05, the power at 0.8. The first test I will run is a one-way ANOVA test, which will tell us whether the sales of the stores differ based on the marketing promotion used. If this test gives a significant result, then we can conclude that at least one of the promotions had a significant effect on sales of the new burger; however, this test does not tell us which promotion had this effect. \n",
    "\n",
    "As such, if the ANOVA is significant, the second test I will run is a post-hoc test (Tukey's HSD), which is a pairwise test that compares the sales of each group to the sales of every other group to detect a significant difference. The MDE (minimum detectable effect) will be set at 10%. Therefore, if the sales of one of the three groups is at least 10% higher than the others, and the Tukey's HSD determines that this result is significant, then we will consider the hypothesis statement to be true. Otherwise, we will reject the hypothesis statement."
   ]
  },
  {
   "cell_type": "markdown",
   "id": "0e054bf9",
   "metadata": {},
   "source": [
    "## 2. Collect data"
   ]
  },
  {
   "cell_type": "markdown",
   "id": "b84b0cde",
   "metadata": {},
   "source": [
    "This data came from a pre-existing dataset, [\"Fast Food Marketing Campaign AB Test\"](https://www.kaggle.com/datasets/chebotinaa/fast-food-marketing-campaign-ab-test), so I did not collect the primary data myself. This section will instead be dedicated to getting an overview of the data that has been collected, performing pre-"
   ]
  },
  {
   "cell_type": "code",
   "execution_count": 2,
   "id": "890f5bb4",
   "metadata": {},
   "outputs": [],
   "source": [
    "#Import pandas, numpy, scipy, and statsmodels for analysis, matplotlib and seaborn for data visualisation\n",
    "import pandas as pd\n",
    "import numpy as np\n",
    "import os \n",
    "import matplotlib.pyplot as plt\n",
    "import seaborn as sns\n",
    "import scipy.stats as stats\n",
    "from statsmodels.stats.multicomp import pairwise_tukeyhsd\n",
    "\n",
    "sns.set_theme()\n",
    "path = os.getcwd()"
   ]
  },
  {
   "cell_type": "code",
   "execution_count": 3,
   "id": "579d0c5f",
   "metadata": {},
   "outputs": [],
   "source": [
    "df = pd.read_csv(path + '/WA_Marketing-Campaign.csv')\n",
    "pd.set_option('display.max_columns',100)"
   ]
  },
  {
   "cell_type": "markdown",
   "id": "dc9c60bc",
   "metadata": {},
   "source": [
    "### 2.1 Overview of Dataset"
   ]
  },
  {
   "cell_type": "code",
   "execution_count": 4,
   "id": "10338ba3",
   "metadata": {},
   "outputs": [
    {
     "name": "stdout",
     "output_type": "stream",
     "text": [
      "\u001b[1m######################## OVERVIEW ########################\u001b[0m\n",
      "\n",
      "############### Head ###############\n",
      "\n",
      "   MarketID MarketSize  LocationID  AgeOfStore  Promotion  week  \\\n",
      "0         1     Medium           1           4          3     1   \n",
      "1         1     Medium           1           4          3     2   \n",
      "2         1     Medium           1           4          3     3   \n",
      "3         1     Medium           1           4          3     4   \n",
      "4         1     Medium           2           5          2     1   \n",
      "\n",
      "   SalesInThousands  \n",
      "0             33.73  \n",
      "1             35.67  \n",
      "2             29.03  \n",
      "3             39.25  \n",
      "4             27.81  \n",
      "      \n",
      "\n",
      "############### Datatypes ###############\n",
      "\n",
      "MarketID              int64\n",
      "MarketSize           object\n",
      "LocationID            int64\n",
      "AgeOfStore            int64\n",
      "Promotion             int64\n",
      "week                  int64\n",
      "SalesInThousands    float64\n",
      "dtype: object \n",
      "      \n",
      "\n",
      "############### Null Values ###############\n",
      "\n",
      "MarketID            0\n",
      "MarketSize          0\n",
      "LocationID          0\n",
      "AgeOfStore          0\n",
      "Promotion           0\n",
      "week                0\n",
      "SalesInThousands    0\n",
      "dtype: int64\n",
      "      \n",
      "\n",
      "############### Duplicate Rows ###############\n",
      "\n",
      "Number of duplicate rows: 0\n",
      "      \n",
      "\n",
      "############### Summary Statistics ###############\n",
      "      \n",
      "Number of markets: 10\n",
      "      \n",
      "Market sizes: ['Medium', 'Small', 'Large']\n",
      "      \n",
      "Number of locations: 137\n",
      "      \n",
      "Average age of stores: 8.5\n",
      "      \n",
      "Number of promotions: 3\n",
      "      \n",
      "Number of weeks: 4\n",
      "      \n",
      "Average sales: $53.47k\n"
     ]
    }
   ],
   "source": [
    "head = df.head()\n",
    "dtypes = df.dtypes\n",
    "nulls = df.isna().sum()\n",
    "duplicates = df.duplicated().sum()\n",
    "num_markets = len(df['MarketID'].unique())\n",
    "market_sizes = list(df['MarketSize'].unique())\n",
    "num_locations = len(df['LocationID'].unique())\n",
    "avg_age = round(df['AgeOfStore'].mean(),2)\n",
    "num_promotions = len(df['Promotion'].unique())\n",
    "num_weeks = len(df['week'].unique())\n",
    "avg_sales = round(df['SalesInThousands'].mean(),2)\n",
    "\n",
    "print('\\033[1m######################## OVERVIEW ########################\\033[0m')\n",
    "print(f\"\"\"\\n############### Head ###############\\n\\n{head}\n",
    "      \\n\\n############### Datatypes ###############\\n\\n{dtypes} \n",
    "      \\n\\n############### Null Values ###############\\n\\n{nulls}\n",
    "      \\n\\n############### Duplicate Rows ###############\\n\\nNumber of duplicate rows: {duplicates}\n",
    "      \\n\\n############### Summary Statistics ###############\n",
    "      \\nNumber of markets: {num_markets}\n",
    "      \\nMarket sizes: {market_sizes}\n",
    "      \\nNumber of locations: {num_locations}\n",
    "      \\nAverage age of stores: {avg_age}\n",
    "      \\nNumber of promotions: {num_promotions}\n",
    "      \\nNumber of weeks: {num_weeks}\n",
    "      \\nAverage sales: ${avg_sales}k\"\"\")"
   ]
  },
  {
   "cell_type": "markdown",
   "id": "14e2bed4",
   "metadata": {},
   "source": [
    "This summary provides a useful overview of the dataset. As expected, there are three promotions that run over 4 weeks. The dataset also provides the market that the promotion was used in, along with the market size. In addition, it provides a unqiue ID each location the promotion is used in, as well as the age of the store. Finally, there is a column for sales at that store for each week.\n",
    "\n",
    "The fact that there are no null values or duplicate rows suggest that this is high-quality data that will require little cleaning. However, there are a couple of pre-processing steps I will need to perform."
   ]
  },
  {
   "cell_type": "markdown",
   "id": "d33b157e",
   "metadata": {},
   "source": [
    "### 2.2 Data cleaning"
   ]
  },
  {
   "cell_type": "markdown",
   "id": "c283d8d7",
   "metadata": {},
   "source": [
    "The main cleaning I want to perform here is (1) extract the actual sales from 'SalesInThousands', (2) represent 'MarketSize' as an ordinal variable:"
   ]
  },
  {
   "cell_type": "code",
   "execution_count": 5,
   "id": "5cfa6216",
   "metadata": {},
   "outputs": [
    {
     "data": {
      "text/html": [
       "<div>\n",
       "<style scoped>\n",
       "    .dataframe tbody tr th:only-of-type {\n",
       "        vertical-align: middle;\n",
       "    }\n",
       "\n",
       "    .dataframe tbody tr th {\n",
       "        vertical-align: top;\n",
       "    }\n",
       "\n",
       "    .dataframe thead th {\n",
       "        text-align: right;\n",
       "    }\n",
       "</style>\n",
       "<table border=\"1\" class=\"dataframe\">\n",
       "  <thead>\n",
       "    <tr style=\"text-align: right;\">\n",
       "      <th></th>\n",
       "      <th>MarketID</th>\n",
       "      <th>MarketSize</th>\n",
       "      <th>LocationID</th>\n",
       "      <th>AgeOfStore</th>\n",
       "      <th>Promotion</th>\n",
       "      <th>week</th>\n",
       "      <th>SalesInThousands</th>\n",
       "      <th>Sales</th>\n",
       "    </tr>\n",
       "  </thead>\n",
       "  <tbody>\n",
       "    <tr>\n",
       "      <th>0</th>\n",
       "      <td>1</td>\n",
       "      <td>Medium</td>\n",
       "      <td>1</td>\n",
       "      <td>4</td>\n",
       "      <td>3</td>\n",
       "      <td>1</td>\n",
       "      <td>33.73</td>\n",
       "      <td>33730.0</td>\n",
       "    </tr>\n",
       "    <tr>\n",
       "      <th>1</th>\n",
       "      <td>1</td>\n",
       "      <td>Medium</td>\n",
       "      <td>1</td>\n",
       "      <td>4</td>\n",
       "      <td>3</td>\n",
       "      <td>2</td>\n",
       "      <td>35.67</td>\n",
       "      <td>35670.0</td>\n",
       "    </tr>\n",
       "    <tr>\n",
       "      <th>2</th>\n",
       "      <td>1</td>\n",
       "      <td>Medium</td>\n",
       "      <td>1</td>\n",
       "      <td>4</td>\n",
       "      <td>3</td>\n",
       "      <td>3</td>\n",
       "      <td>29.03</td>\n",
       "      <td>29030.0</td>\n",
       "    </tr>\n",
       "    <tr>\n",
       "      <th>3</th>\n",
       "      <td>1</td>\n",
       "      <td>Medium</td>\n",
       "      <td>1</td>\n",
       "      <td>4</td>\n",
       "      <td>3</td>\n",
       "      <td>4</td>\n",
       "      <td>39.25</td>\n",
       "      <td>39250.0</td>\n",
       "    </tr>\n",
       "    <tr>\n",
       "      <th>4</th>\n",
       "      <td>1</td>\n",
       "      <td>Medium</td>\n",
       "      <td>2</td>\n",
       "      <td>5</td>\n",
       "      <td>2</td>\n",
       "      <td>1</td>\n",
       "      <td>27.81</td>\n",
       "      <td>27810.0</td>\n",
       "    </tr>\n",
       "  </tbody>\n",
       "</table>\n",
       "</div>"
      ],
      "text/plain": [
       "   MarketID MarketSize  LocationID  AgeOfStore  Promotion  week  \\\n",
       "0         1     Medium           1           4          3     1   \n",
       "1         1     Medium           1           4          3     2   \n",
       "2         1     Medium           1           4          3     3   \n",
       "3         1     Medium           1           4          3     4   \n",
       "4         1     Medium           2           5          2     1   \n",
       "\n",
       "   SalesInThousands    Sales  \n",
       "0             33.73  33730.0  \n",
       "1             35.67  35670.0  \n",
       "2             29.03  29030.0  \n",
       "3             39.25  39250.0  \n",
       "4             27.81  27810.0  "
      ]
     },
     "execution_count": 5,
     "metadata": {},
     "output_type": "execute_result"
    }
   ],
   "source": [
    "#Extract sales from 'SalesInThousands' \n",
    "df['Sales'] = df['SalesInThousands']*1000\n",
    "df.head()"
   ]
  },
  {
   "cell_type": "code",
   "execution_count": 6,
   "id": "d7acf7b2",
   "metadata": {},
   "outputs": [
    {
     "data": {
      "text/html": [
       "<div>\n",
       "<style scoped>\n",
       "    .dataframe tbody tr th:only-of-type {\n",
       "        vertical-align: middle;\n",
       "    }\n",
       "\n",
       "    .dataframe tbody tr th {\n",
       "        vertical-align: top;\n",
       "    }\n",
       "\n",
       "    .dataframe thead th {\n",
       "        text-align: right;\n",
       "    }\n",
       "</style>\n",
       "<table border=\"1\" class=\"dataframe\">\n",
       "  <thead>\n",
       "    <tr style=\"text-align: right;\">\n",
       "      <th></th>\n",
       "      <th>MarketID</th>\n",
       "      <th>MarketSize</th>\n",
       "      <th>LocationID</th>\n",
       "      <th>AgeOfStore</th>\n",
       "      <th>Promotion</th>\n",
       "      <th>week</th>\n",
       "      <th>SalesInThousands</th>\n",
       "      <th>Sales</th>\n",
       "      <th>MarketSizeCode</th>\n",
       "    </tr>\n",
       "  </thead>\n",
       "  <tbody>\n",
       "    <tr>\n",
       "      <th>0</th>\n",
       "      <td>1</td>\n",
       "      <td>Medium</td>\n",
       "      <td>1</td>\n",
       "      <td>4</td>\n",
       "      <td>3</td>\n",
       "      <td>1</td>\n",
       "      <td>33.73</td>\n",
       "      <td>33730.0</td>\n",
       "      <td>2</td>\n",
       "    </tr>\n",
       "    <tr>\n",
       "      <th>1</th>\n",
       "      <td>1</td>\n",
       "      <td>Medium</td>\n",
       "      <td>1</td>\n",
       "      <td>4</td>\n",
       "      <td>3</td>\n",
       "      <td>2</td>\n",
       "      <td>35.67</td>\n",
       "      <td>35670.0</td>\n",
       "      <td>2</td>\n",
       "    </tr>\n",
       "    <tr>\n",
       "      <th>2</th>\n",
       "      <td>1</td>\n",
       "      <td>Medium</td>\n",
       "      <td>1</td>\n",
       "      <td>4</td>\n",
       "      <td>3</td>\n",
       "      <td>3</td>\n",
       "      <td>29.03</td>\n",
       "      <td>29030.0</td>\n",
       "      <td>2</td>\n",
       "    </tr>\n",
       "    <tr>\n",
       "      <th>3</th>\n",
       "      <td>1</td>\n",
       "      <td>Medium</td>\n",
       "      <td>1</td>\n",
       "      <td>4</td>\n",
       "      <td>3</td>\n",
       "      <td>4</td>\n",
       "      <td>39.25</td>\n",
       "      <td>39250.0</td>\n",
       "      <td>2</td>\n",
       "    </tr>\n",
       "    <tr>\n",
       "      <th>4</th>\n",
       "      <td>1</td>\n",
       "      <td>Medium</td>\n",
       "      <td>2</td>\n",
       "      <td>5</td>\n",
       "      <td>2</td>\n",
       "      <td>1</td>\n",
       "      <td>27.81</td>\n",
       "      <td>27810.0</td>\n",
       "      <td>2</td>\n",
       "    </tr>\n",
       "  </tbody>\n",
       "</table>\n",
       "</div>"
      ],
      "text/plain": [
       "   MarketID MarketSize  LocationID  AgeOfStore  Promotion  week  \\\n",
       "0         1     Medium           1           4          3     1   \n",
       "1         1     Medium           1           4          3     2   \n",
       "2         1     Medium           1           4          3     3   \n",
       "3         1     Medium           1           4          3     4   \n",
       "4         1     Medium           2           5          2     1   \n",
       "\n",
       "   SalesInThousands    Sales  MarketSizeCode  \n",
       "0             33.73  33730.0               2  \n",
       "1             35.67  35670.0               2  \n",
       "2             29.03  29030.0               2  \n",
       "3             39.25  39250.0               2  \n",
       "4             27.81  27810.0               2  "
      ]
     },
     "execution_count": 6,
     "metadata": {},
     "output_type": "execute_result"
    }
   ],
   "source": [
    "#Add numerical code for 'MarketSize'\n",
    "size_map = {'Small':1,'Medium':2,'Large':3}\n",
    "df['MarketSizeCode'] = df['MarketSize'].map(size_map)\n",
    "df.head()"
   ]
  },
  {
   "cell_type": "markdown",
   "id": "8eef4f43",
   "metadata": {},
   "source": [
    "Finally, let's divide the dataset into the three groups - one for each promotion - for use in our hypothesis tests."
   ]
  },
  {
   "cell_type": "code",
   "execution_count": 7,
   "id": "1bef8290",
   "metadata": {},
   "outputs": [],
   "source": [
    "A = df.loc[df['Promotion']==1]['Sales']\n",
    "B = df.loc[df['Promotion']==2]['Sales']\n",
    "C = df.loc[df['Promotion']==3]['Sales']"
   ]
  },
  {
   "cell_type": "markdown",
   "id": "14ae2643",
   "metadata": {},
   "source": [
    "### 2.3 Overview of samples"
   ]
  },
  {
   "cell_type": "markdown",
   "id": "8def5e5f",
   "metadata": {},
   "source": [
    "Now that we have the three key samples, we can look at some summary statistics for each sample."
   ]
  },
  {
   "cell_type": "code",
   "execution_count": 28,
   "id": "7aeb7e65",
   "metadata": {},
   "outputs": [
    {
     "data": {
      "text/html": [
       "<div>\n",
       "<style scoped>\n",
       "    .dataframe tbody tr th:only-of-type {\n",
       "        vertical-align: middle;\n",
       "    }\n",
       "\n",
       "    .dataframe tbody tr th {\n",
       "        vertical-align: top;\n",
       "    }\n",
       "\n",
       "    .dataframe thead th {\n",
       "        text-align: right;\n",
       "    }\n",
       "</style>\n",
       "<table border=\"1\" class=\"dataframe\">\n",
       "  <thead>\n",
       "    <tr style=\"text-align: right;\">\n",
       "      <th></th>\n",
       "      <th>Sample</th>\n",
       "      <th>Sample Size</th>\n",
       "      <th>Min</th>\n",
       "      <th>Mean</th>\n",
       "      <th>Median</th>\n",
       "      <th>Max</th>\n",
       "      <th>Variance</th>\n",
       "      <th>St Dev</th>\n",
       "    </tr>\n",
       "  </thead>\n",
       "  <tbody>\n",
       "    <tr>\n",
       "      <th>0</th>\n",
       "      <td>A</td>\n",
       "      <td>172</td>\n",
       "      <td>30810</td>\n",
       "      <td>58099</td>\n",
       "      <td>55385</td>\n",
       "      <td>99650</td>\n",
       "      <td>2.740277e+08</td>\n",
       "      <td>16554</td>\n",
       "    </tr>\n",
       "    <tr>\n",
       "      <th>1</th>\n",
       "      <td>B</td>\n",
       "      <td>188</td>\n",
       "      <td>17340</td>\n",
       "      <td>47329</td>\n",
       "      <td>45385</td>\n",
       "      <td>88640</td>\n",
       "      <td>2.282805e+08</td>\n",
       "      <td>15109</td>\n",
       "    </tr>\n",
       "    <tr>\n",
       "      <th>2</th>\n",
       "      <td>C</td>\n",
       "      <td>188</td>\n",
       "      <td>22180</td>\n",
       "      <td>55364</td>\n",
       "      <td>51165</td>\n",
       "      <td>96480</td>\n",
       "      <td>2.811065e+08</td>\n",
       "      <td>16766</td>\n",
       "    </tr>\n",
       "  </tbody>\n",
       "</table>\n",
       "</div>"
      ],
      "text/plain": [
       "  Sample  Sample Size    Min   Mean  Median    Max      Variance  St Dev\n",
       "0      A          172  30810  58099   55385  99650  2.740277e+08   16554\n",
       "1      B          188  17340  47329   45385  88640  2.282805e+08   15109\n",
       "2      C          188  22180  55364   51165  96480  2.811065e+08   16766"
      ]
     },
     "execution_count": 28,
     "metadata": {},
     "output_type": "execute_result"
    }
   ],
   "source": [
    "pd.DataFrame({'Sample':['A','B','C'],\n",
    "              'Sample Size':[len(A),len(B),len(C)],\n",
    "              'Min':[round(A.min()),round(B.min()),round(C.min())],\n",
    "              'Mean':[round(A.mean()),round(B.mean()),round(C.mean())],\n",
    "              'Median':[round(A.median()),round(B.median()),round(C.median())],\n",
    "              'Max':[round(A.max()),round(B.max()),round(C.max())],\n",
    "              'Variance':[A.var(),B.var(),C.var()],\n",
    "              'St Dev':[round(A.std()),round(B.std()),round(C.std())]\n",
    "             })"
   ]
  },
  {
   "cell_type": "markdown",
   "id": "c64fd6dd",
   "metadata": {},
   "source": [
    "Here we can see some key features of the samples:\n",
    "\n",
    "1. The sample sizes are large (>30) and roughly equal.\n",
    "2. The samples are adequate size for 0.8 power (>53 in each group). \n",
    "3. The variances are roughly equal (this is important for ANOVA, as we will see later).\n",
    "4. Stores that used promotion A had the highest average sales (\\~58,000) in the first four weeks, while B had the lowest (\\~47,000).\n",
    "\n",
    "As I did not collect this data myself, I will need to test whether the promotions were used randomly across all stores. To do this, I will look at the distribution of market sizes and ages of stores in each sample."
   ]
  },
  {
   "cell_type": "code",
   "execution_count": 51,
   "id": "4091fe8b",
   "metadata": {},
   "outputs": [
    {
     "data": {
      "image/png": "[encoded data removed]",
      "text/plain": [
       "<Figure size 720x432 with 1 Axes>"
      ]
     },
     "metadata": {},
     "output_type": "display_data"
    }
   ],
   "source": [
    "#Stacked bar chart to show observed distribution of market sizes in each group\n",
    "fig, ax = plt.subplots(figsize=(10,6))\n",
    "\n",
    "#Set x-axis to each promotion\n",
    "x = sorted(df['Promotion'].unique())\n",
    "\n",
    "#Set stacked bar heights to each market size\n",
    "y1 = np.array(df.loc[df['MarketSizeCode']==1].groupby('Promotion').count()['MarketSize'])\n",
    "y2 = np.array(df.loc[df['MarketSizeCode']==2].groupby('Promotion').count()['MarketSize'])\n",
    "y3 = np.array(df.loc[df['MarketSizeCode']==3].groupby('Promotion').count()['MarketSize'])\n",
    "y3_bottom = [y1[i] + y2[i] for i in range(len(x))]\n",
    "\n",
    "#Create stacked bar charts\n",
    "ax.bar(x,y1,label='Small')\n",
    "ax.bar(x,y2,bottom=y1,label='Medium')\n",
    "ax.bar(x,y3,bottom=y3_bottom,label='Large')\n",
    "\n",
    "#Set labels\n",
    "ax.set_title('Market Size by Promotion')\n",
    "ax.set_ylabel('Number of Stores')\n",
    "ax.set_xlabel('Promotion')\n",
    "ax.set_xticks(ticks=x,labels=['A','B','C'])\n",
    "ax.legend()\n",
    "\n",
    "plt.show()"
   ]
  },
  {
   "cell_type": "markdown",
   "id": "d96128da",
   "metadata": {},
   "source": [
    "This chart shows us that there is a roughly equal number of small, medium, and large stores in each sample, suggesting that the samples are not biased with respect to market size. Let's test this more formally using a chi-squared test of independence, which tests the null hypothesis that there is no relationship between the market size and the promotion used:"
   ]
  },
  {
   "cell_type": "code",
   "execution_count": 68,
   "id": "26c68ab5",
   "metadata": {},
   "outputs": [
    {
     "name": "stdout",
     "output_type": "stream",
     "text": [
      "Do not reject null hypothesis - samples do not display market size bias\n"
     ]
    }
   ],
   "source": [
    "#If chi_2 test p-value is lower than significance level, reject null hypothesis, otherwise do not reject null hypothesis\n",
    "if stats.chi2_contingency(pd.crosstab(df['Promotion'],df['MarketSize']))[1] < 0.05:\n",
    "    print('Reject null hypothesis - samples display market size bias')\n",
    "else:\n",
    "    print('Do not reject null hypothesis - samples do not display market size bias')"
   ]
  },
  {
   "cell_type": "markdown",
   "id": "9e9422d8",
   "metadata": {},
   "source": [
    "Let's also test for bias with respect to the age of the stores:"
   ]
  },
  {
   "cell_type": "markdown",
   "id": "a9a12ddc",
   "metadata": {},
   "source": [
    "## 3. Ombibus Test\n",
    "\n",
    "In this section I run the ANOVA test to determine whether the sales of the stores differ based on the marketing promotion used, i.e. is there a significant difference between the means of the three groups?\n",
    "\n",
    "I begin by testing the assumptions of ANOVA - independence, equal variances, and normality. I find that the sales for each group are NOT normally distributed. Therefore, I opt to use the non-parametric equivalent of ANOVA: the Kruskal-Wallis test. \n",
    "\n",
    "### 3.1 ANOVA\n",
    "\n",
    "The three assumptions of ANOVA are:\n",
    "\n",
    "1. Independence \n",
    "2. Equal Variances\n",
    "3. Normality\n",
    "\n",
    "<p><img src=\"https://doctorlib.info/medical/biostatistics/biostatistics.files/image494.png\" style=\"max-width:600px\"></p>\n",
    "\n",
    "Let's test each assumption in turn."
   ]
  },
  {
   "cell_type": "markdown",
   "id": "a0094046",
   "metadata": {},
   "source": [
    "#### Independence \n",
    "\n",
    "Independence requires that there is no relationship between the observations within each group or between the groups themselves. That is, the same observation cannot appear in more than one group. In our case, this means that each store must use only one of the promotions.\n",
    "\n",
    "This is typically a study design rather than something that is tested for. However, since I did not design this study myself, I will need to check to see whether the groups are in fact independent. I will do this by"
   ]
  },
  {
   "cell_type": "code",
   "execution_count": 989,
   "id": "a7166ff8",
   "metadata": {},
   "outputs": [],
   "source": [
    "#Function to check if samples meet independence assumption\n",
    "def check_indep(A,B,C):\n",
    "    \n",
    "    result = 'Samples are independent'\n",
    "    \n",
    "    #Check if any member of group appears in more than one group \n",
    "    for x in A:\n",
    "        for y in B:\n",
    "            if x==y:\n",
    "                result = 'Samples are not independent'\n",
    "                \n",
    "    for x in B:\n",
    "        for y in C:\n",
    "            if x==y:\n",
    "                result = 'Samples are not independent'\n",
    "                \n",
    "    for x in A:\n",
    "        for y in C:\n",
    "            if x==y:\n",
    "                result = 'Samples are not independent'\n",
    "    \n",
    "    return result"
   ]
  },
  {
   "cell_type": "code",
   "execution_count": 964,
   "id": "ed089b3e",
   "metadata": {},
   "outputs": [
    {
     "data": {
      "text/plain": [
       "'Groups are independent'"
      ]
     },
     "execution_count": 964,
     "metadata": {},
     "output_type": "execute_result"
    }
   ],
   "source": [
    "check_indep(A['LocationID'].unique(),B['LocationID'].unique(),C['LocationID'].unique())"
   ]
  },
  {
   "cell_type": "markdown",
   "id": "7326627e",
   "metadata": {},
   "source": [
    "We can see that samples meet the independence assumption."
   ]
  },
  {
   "cell_type": "markdown",
   "id": "fcaaabaf",
   "metadata": {},
   "source": [
    "#### Equal Variances\n",
    "\n",
    "The equal variance assumption requires that the variance of each group is roughly the same. There is no precise definition of what counts as 'equal variance', but there are some widely accepted rules of thumb to decide whether the variances are equal. I will use the heuristic that if the ratio of the larger variance to the smaller variance is less than 4, the sample variances are equal."
   ]
  },
  {
   "cell_type": "code",
   "execution_count": 1213,
   "id": "8b36e17b",
   "metadata": {},
   "outputs": [],
   "source": [
    "#Function to check if samples meet equal variance assumption \n",
    "def check_var(A,B,C):\n",
    "    \n",
    "    variances = np.array([A.var(),B.var(),C.var()])\n",
    "    \n",
    "    #Sort samples variances from smallest to largest\n",
    "    variances.sort()\n",
    "    \n",
    "    #Check ratio of smallest to largest variance:\n",
    "    if variances[0]/variances[2] > 4:\n",
    "        print('Unequal sample variances')\n",
    "    else:\n",
    "        print('Equal samples variances')"
   ]
  },
  {
   "cell_type": "code",
   "execution_count": 1214,
   "id": "e6e2c7e6",
   "metadata": {},
   "outputs": [
    {
     "name": "stdout",
     "output_type": "stream",
     "text": [
      "Equal samples variances\n"
     ]
    }
   ],
   "source": [
    "check_var(A['Sales'],B['Sales'],C['Sales'])"
   ]
  },
  {
   "cell_type": "markdown",
   "id": "2b807e7c",
   "metadata": {},
   "source": [
    "#### Normality"
   ]
  },
  {
   "cell_type": "markdown",
   "id": "b387fb87",
   "metadata": {},
   "source": [
    "The final assumption to check is normality. ANOVA assumes that each group is normally distributed. We will check this in two ways - visually using a histogram, and more formally using a Shapiro-Wilk test for normality."
   ]
  },
  {
   "cell_type": "code",
   "execution_count": 417,
   "id": "4495d725",
   "metadata": {},
   "outputs": [
    {
     "data": {
      "image/png": "[encoded data removed]",
      "text/plain": [
       "<Figure size 720x1080 with 3 Axes>"
      ]
     },
     "metadata": {},
     "output_type": "display_data"
    }
   ],
   "source": [
    "#Plot histograms of each promotion sales\n",
    "fig, ax = plt.subplots(3,1,sharex=True)\n",
    "\n",
    "fig.set_figheight(15)\n",
    "fig.set_figwidth(10)\n",
    "\n",
    "ax[0].hist(A,bins=15) \n",
    "ax[1].hist(B,bins=15)\n",
    "ax[2].hist(C,bins=15)\n",
    "\n",
    "ax[0].xaxis.set_tick_params(which='both', labelbottom=True)\n",
    "ax[1].xaxis.set_tick_params(which='both', labelbottom=True)\n",
    "ax[0].set_title('Promotion A')\n",
    "ax[1].set_title('Promotion B')\n",
    "ax[2].set_title('Promotion C')\n",
    "\n",
    "for num in range(3):\n",
    "    ax[num].set_xlabel('Sales ($)')\n",
    "    ax[num].set_ylabel('Frequency')\n",
    "\n",
    "plt.tight_layout()"
   ]
  },
  {
   "cell_type": "code",
   "execution_count": 112,
   "id": "1c0b8e15",
   "metadata": {},
   "outputs": [
    {
     "data": {
      "text/html": [
       "<div>\n",
       "<style scoped>\n",
       "    .dataframe tbody tr th:only-of-type {\n",
       "        vertical-align: middle;\n",
       "    }\n",
       "\n",
       "    .dataframe tbody tr th {\n",
       "        vertical-align: top;\n",
       "    }\n",
       "\n",
       "    .dataframe thead th {\n",
       "        text-align: right;\n",
       "    }\n",
       "</style>\n",
       "<table border=\"1\" class=\"dataframe\">\n",
       "  <thead>\n",
       "    <tr style=\"text-align: right;\">\n",
       "      <th></th>\n",
       "      <th>Group</th>\n",
       "      <th>Null hypothesis</th>\n",
       "      <th>Critical Value</th>\n",
       "      <th>p-value</th>\n",
       "      <th>Result</th>\n",
       "    </tr>\n",
       "  </thead>\n",
       "  <tbody>\n",
       "    <tr>\n",
       "      <th>0</th>\n",
       "      <td>A</td>\n",
       "      <td>Sales are normally distributed</td>\n",
       "      <td>0.05</td>\n",
       "      <td>1.977292e-08</td>\n",
       "      <td>Reject null</td>\n",
       "    </tr>\n",
       "    <tr>\n",
       "      <th>1</th>\n",
       "      <td>B</td>\n",
       "      <td>Sales are normally distributed</td>\n",
       "      <td>0.05</td>\n",
       "      <td>5.456124e-09</td>\n",
       "      <td>Reject null</td>\n",
       "    </tr>\n",
       "    <tr>\n",
       "      <th>2</th>\n",
       "      <td>C</td>\n",
       "      <td>Sales are normally distributed</td>\n",
       "      <td>0.05</td>\n",
       "      <td>1.499486e-08</td>\n",
       "      <td>Reject null</td>\n",
       "    </tr>\n",
       "  </tbody>\n",
       "</table>\n",
       "</div>"
      ],
      "text/plain": [
       "  Group                 Null hypothesis  Critical Value       p-value  \\\n",
       "0     A  Sales are normally distributed            0.05  1.977292e-08   \n",
       "1     B  Sales are normally distributed            0.05  5.456124e-09   \n",
       "2     C  Sales are normally distributed            0.05  1.499486e-08   \n",
       "\n",
       "        Result  \n",
       "0  Reject null  \n",
       "1  Reject null  \n",
       "2  Reject null  "
      ]
     },
     "execution_count": 112,
     "metadata": {},
     "output_type": "execute_result"
    }
   ],
   "source": [
    "data = {'Group': ['A','B','C'],\n",
    "        'Null hypothesis': ['Sales are normally distributed'] * len(groups),\n",
    "        'Critical Value': [0.05] * len(groups),\n",
    "        'p-value': [],\n",
    "        'Result': []}\n",
    "\n",
    "groups = [A,B,C]\n",
    "pval = []\n",
    "\n",
    "for group in groups:\n",
    "    pval.append(stats.shapiro(group)[1])\n",
    "    \n",
    "for value in pval:\n",
    "    data['Result'].append('Reject null' if value < 0.05 else 'Do not reject null')\n",
    "    data['p-value'].append(value)\n",
    "\n",
    "pd.DataFrame(data)"
   ]
  },
  {
   "cell_type": "markdown",
   "id": "3daa3008",
   "metadata": {},
   "source": [
    "Visually, we can see that the sales for each group are NOT normally distributed - instead they show a bimodal distribution. The first peak is centred around \\$60,000, while the second is centred around \\\\$80-90,000.\n",
    "\n",
    "The Shapiro-Wilk test also confirmed this - we rejected the null hypothesis that sales are normally distributed (p < 0.05).\n",
    "\n",
    "The literature suggests that when samples sizes are large (n>30), ANOVA is relatively robust against violations of the normality assumption. However, most of the literature I found on this topic refers to skewed distributions rather than bimodal distributions. Moreover, although ANOVA is robust against normality violations, non-parametric tests tend to have more statistical power when this assumption is violated. As such, I will use the non-parametric alternative to ANOVA for this A/B/n test - the Kruskal-Wallis test."
   ]
  },
  {
   "cell_type": "markdown",
   "id": "76371d52",
   "metadata": {},
   "source": [
    "### 3.2 Kruskal-Wallis Test\n",
    "\n",
    "As our samples did not meet the assumptions of ANOVA, we will instead run a non-parametric Kruskal-Wallis test (also called 'ANOVA on ranks' as it ranks the data before comparing variability between and within groups).\n",
    "\n",
    "If the distributions of the groups are similar, i.e. have similar shapes, then this test can be interpreted as testing for the difference between the medians of each groups (whereas ANOVA tests for the difference of means). We can use a violin plot to show that the distributions of each group are indeed similar:"
   ]
  },
  {
   "cell_type": "code",
   "execution_count": 117,
   "id": "7761cf7f",
   "metadata": {},
   "outputs": [
    {
     "data": {
      "image/png": "[encoded data removed]",
      "text/plain": [
       "<Figure size 432x288 with 1 Axes>"
      ]
     },
     "metadata": {},
     "output_type": "display_data"
    }
   ],
   "source": [
    "fig, ax = plt.subplots()\n",
    "\n",
    "ax.violinplot([A,C,B],showmedians=True)\n",
    "\n",
    "ax.set_ylabel('Sales')\n",
    "ax.set_xlabel('Promotion')\n",
    "ax.set_xticks(ticks=[1,2,3],labels=['A','C','B'])\n",
    "ax.set_title('Distribution of Sales by Promotion')\n",
    "\n",
    "plt.show()"
   ]
  },
  {
   "cell_type": "markdown",
   "id": "6ee94f75",
   "metadata": {},
   "source": [
    "Therefore, the null hypothesis for this test is:\n",
    "\n",
    "   **Null hypothesis**: There is no difference among median sales for each promotion, i.e. A = B = C\n",
    "\n",
    "**Alternative hypothesis**: At least one group differs from the overall median, i.e. (A ≠ B) or (A ≠ C) or (B ≠ C)"
   ]
  },
  {
   "cell_type": "code",
   "execution_count": 139,
   "id": "e909fdb3",
   "metadata": {},
   "outputs": [
    {
     "data": {
      "text/html": [
       "<div>\n",
       "<style scoped>\n",
       "    .dataframe tbody tr th:only-of-type {\n",
       "        vertical-align: middle;\n",
       "    }\n",
       "\n",
       "    .dataframe tbody tr th {\n",
       "        vertical-align: top;\n",
       "    }\n",
       "\n",
       "    .dataframe thead th {\n",
       "        text-align: right;\n",
       "    }\n",
       "</style>\n",
       "<table border=\"1\" class=\"dataframe\">\n",
       "  <thead>\n",
       "    <tr style=\"text-align: right;\">\n",
       "      <th></th>\n",
       "      <th>Median A</th>\n",
       "      <th>Median B</th>\n",
       "      <th>Median C</th>\n",
       "      <th>Null Hypothesis</th>\n",
       "      <th>Alpha</th>\n",
       "      <th>p-value</th>\n",
       "      <th>Result</th>\n",
       "    </tr>\n",
       "  </thead>\n",
       "  <tbody>\n",
       "    <tr>\n",
       "      <th>0</th>\n",
       "      <td>55385</td>\n",
       "      <td>45385</td>\n",
       "      <td>51165</td>\n",
       "      <td>Median A = Median B = Median C</td>\n",
       "      <td>0.05</td>\n",
       "      <td>2.674187e-12</td>\n",
       "      <td>Reject null</td>\n",
       "    </tr>\n",
       "  </tbody>\n",
       "</table>\n",
       "</div>"
      ],
      "text/plain": [
       "   Median A  Median B  Median C                 Null Hypothesis  Alpha  \\\n",
       "0     55385     45385     51165  Median A = Median B = Median C   0.05   \n",
       "\n",
       "        p-value       Result  \n",
       "0  2.674187e-12  Reject null  "
      ]
     },
     "execution_count": 139,
     "metadata": {},
     "output_type": "execute_result"
    }
   ],
   "source": [
    "#Accept or reject null based on p-value and alpha\n",
    "result = 'Do not reject null'\n",
    "if stats.kruskal(A,B,C)[1] < 0.05:\n",
    "    result = 'Reject null'\n",
    "\n",
    "pd.DataFrame({'Median A':round(A.median()),\n",
    "              'Median B':round(B.median()),\n",
    "              'Median C':round(C.median()),\n",
    "              'Null Hypothesis':'Median A = Median B = Median C',\n",
    "              'Alpha':0.05,\n",
    "              'p-value':stats.kruskal(A,B,C)[1],\n",
    "              'Result':result\n",
    "             },index=[0])"
   ]
  },
  {
   "cell_type": "markdown",
   "id": "600c1d6b",
   "metadata": {},
   "source": [
    "The Kruskal-Wallis test detected a significant difference in medians across the three groups (p < 0.05). Kruskall-Wallis is an omnibus test, and so it doesn't identify which promotion had a significant difference, or the direction of the difference. We must now use a post-hoc test to identify which promotion (if any) resulted in significantly higher sales of the burger in the first four weeks"
   ]
  },
  {
   "cell_type": "markdown",
   "id": "bf53cbcf",
   "metadata": {},
   "source": [
    "## 4. Post-hoc tests"
   ]
  },
  {
   "cell_type": "markdown",
   "id": "a29eca84",
   "metadata": {},
   "source": [
    "In this section I use Tukey's HSD test to compare every promotion against every other promotion, to identify which promotions had a significantly higher average sales compared to the others.\n",
    "\n",
    "Each test has the same null and alternative hypothesis:\n",
    "\n",
    "**Null Hypothesis:** There is no difference in mean sales between group 1 and group 2.\n",
    "\n",
    "**Alternative Hypothesis:** There is a difference in mean sales between group 1 and group 2.\n",
    "\n",
    "What changes between each test is the promotion used for group 1 and group 2. So for example, the first test compares the means of promotion A to promotion B, whereas the second compares the means of promotions A and C.\n",
    "\n",
    "Each test has an alpha level of 0.05. The results are below:"
   ]
  },
  {
   "cell_type": "code",
   "execution_count": 137,
   "id": "f937a91d",
   "metadata": {},
   "outputs": [
    {
     "name": "stdout",
     "output_type": "stream",
     "text": [
      "     Multiple Comparison of Means - Tukey HSD, FWER=0.05      \n",
      "==============================================================\n",
      "group1 group2   meandiff  p-adj     lower      upper    reject\n",
      "--------------------------------------------------------------\n",
      "     1      2 -10769.5967    0.0 -14773.8421 -6765.3514   True\n",
      "     1      3  -2734.5435 0.2444  -6738.7889  1269.7018  False\n",
      "     2      3   8035.0532    0.0   4120.8024  11949.304   True\n",
      "--------------------------------------------------------------\n"
     ]
    }
   ],
   "source": [
    "print(pairwise_tukeyhsd(endog=df['Sales'],groups=df['Promotion'],alpha=0.05))"
   ]
  },
  {
   "cell_type": "markdown",
   "id": "e9e472cb",
   "metadata": {},
   "source": [
    "Here are the results in a more interpretable format:"
   ]
  },
  {
   "cell_type": "code",
   "execution_count": 146,
   "id": "03cb5744",
   "metadata": {},
   "outputs": [
    {
     "data": {
      "text/html": [
       "<div>\n",
       "<style scoped>\n",
       "    .dataframe tbody tr th:only-of-type {\n",
       "        vertical-align: middle;\n",
       "    }\n",
       "\n",
       "    .dataframe tbody tr th {\n",
       "        vertical-align: top;\n",
       "    }\n",
       "\n",
       "    .dataframe thead th {\n",
       "        text-align: right;\n",
       "    }\n",
       "</style>\n",
       "<table border=\"1\" class=\"dataframe\">\n",
       "  <thead>\n",
       "    <tr style=\"text-align: right;\">\n",
       "      <th></th>\n",
       "      <th>Group 1</th>\n",
       "      <th>Group 2</th>\n",
       "      <th>Group 1 Mean</th>\n",
       "      <th>Group 2 Mean</th>\n",
       "      <th>Mean Difference</th>\n",
       "      <th>Null Hypothesis</th>\n",
       "      <th>p-value</th>\n",
       "      <th>Result</th>\n",
       "    </tr>\n",
       "  </thead>\n",
       "  <tbody>\n",
       "    <tr>\n",
       "      <th>0</th>\n",
       "      <td>A</td>\n",
       "      <td>B</td>\n",
       "      <td>58099</td>\n",
       "      <td>47329</td>\n",
       "      <td>10770</td>\n",
       "      <td>Mean A = Mean B</td>\n",
       "      <td>&lt;0.001</td>\n",
       "      <td>Reject Null</td>\n",
       "    </tr>\n",
       "    <tr>\n",
       "      <th>1</th>\n",
       "      <td>A</td>\n",
       "      <td>C</td>\n",
       "      <td>58099</td>\n",
       "      <td>55364</td>\n",
       "      <td>2735</td>\n",
       "      <td>Mean A = Mean C</td>\n",
       "      <td>0.244</td>\n",
       "      <td>Do Not Reject Null</td>\n",
       "    </tr>\n",
       "    <tr>\n",
       "      <th>2</th>\n",
       "      <td>B</td>\n",
       "      <td>C</td>\n",
       "      <td>47329</td>\n",
       "      <td>55364</td>\n",
       "      <td>-8035</td>\n",
       "      <td>Mean B = Mean C</td>\n",
       "      <td>&lt;0.001</td>\n",
       "      <td>Reject Null</td>\n",
       "    </tr>\n",
       "  </tbody>\n",
       "</table>\n",
       "</div>"
      ],
      "text/plain": [
       "  Group 1 Group 2  Group 1 Mean  Group 2 Mean  Mean Difference  \\\n",
       "0       A       B         58099         47329            10770   \n",
       "1       A       C         58099         55364             2735   \n",
       "2       B       C         47329         55364            -8035   \n",
       "\n",
       "   Null Hypothesis p-value              Result  \n",
       "0  Mean A = Mean B  <0.001         Reject Null  \n",
       "1  Mean A = Mean C   0.244  Do Not Reject Null  \n",
       "2  Mean B = Mean C  <0.001         Reject Null  "
      ]
     },
     "execution_count": 146,
     "metadata": {},
     "output_type": "execute_result"
    }
   ],
   "source": [
    "mean_a = round(A.mean())\n",
    "mean_b = round(B.mean())\n",
    "mean_c = round(C.mean())\n",
    "\n",
    "tukeys_test_results = pd.DataFrame({'Group 1':['A','A','B'],\n",
    "                            'Group 2':['B','C','C'],\n",
    "                            'Group 1 Mean':[mean_a,mean_a,mean_b],\n",
    "                            'Group 2 Mean':[mean_b,mean_c,mean_c],\n",
    "                            'Mean Difference':[mean_a-mean_b,mean_a-mean_c,mean_b-mean_c],\n",
    "                            'Null Hypothesis':['Mean A = Mean B','Mean A = Mean C','Mean B = Mean C'],\n",
    "                            'p-value':['<0.001','0.244','<0.001'],\n",
    "                            'Result':['Reject Null','Do Not Reject Null','Reject Null']\n",
    "                           })\n",
    "\n",
    "tukeys_test_results"
   ]
  },
  {
   "cell_type": "markdown",
   "id": "8f89bce0",
   "metadata": {},
   "source": [
    "The results of the Tukey test indicate two key insights:\n",
    "\n",
    "1. Stores using promotion A and C had significantly higher sales than stores using promotion B.\n",
    "2. There is no significant difference between the sales of stores using promotion A and C."
   ]
  },
  {
   "cell_type": "code",
   "execution_count": 415,
   "id": "d02bc9b1",
   "metadata": {
    "scrolled": true
   },
   "outputs": [
    {
     "data": {
      "image/png": "[encoded data removed]",
      "text/plain": [
       "<Figure size 432x288 with 1 Axes>"
      ]
     },
     "metadata": {},
     "output_type": "display_data"
    }
   ],
   "source": [
    "fig, ax = plt.subplots()\n",
    "\n",
    "ax.plot(B.mean(), 0, marker=\"o\", color='Red')\n",
    "ax.plot(C.mean(), 0, marker=\"o\", color='Red')\n",
    "ax.plot(A.mean(), 0, marker=\"o\", color='Red')\n",
    "\n",
    "ax.arrow(x=B.mean(),y=0,dx=(C.mean()-B.mean()),dy=0,\n",
    "         length_includes_head=True,width=0.02,head_length=300,head_width=0.1,color='#6c90eb')\n",
    "ax.arrow(x=C.mean(),y=0,dx=-(C.mean()-B.mean()),dy=0,\n",
    "         length_includes_head=True,width=0.02,head_length=300,head_width=0.1,color='#6c90eb')\n",
    "ax.arrow(x=C.mean(),y=0,dx=(A.mean()-C.mean()),dy=0,\n",
    "         length_includes_head=True,width=0.02,head_length=300,head_width=0.1,color='#6c90eb')\n",
    "ax.arrow(x=A.mean(),y=0,dx=-(A.mean()-C.mean()),dy=0,\n",
    "         length_includes_head=True,width=0.02,head_length=300,head_width=0.1,color='#6c90eb')\n",
    "ax.arrow(x=B.mean(),y=-0.2,dx=(A.mean()-B.mean()),dy=0,\n",
    "         length_includes_head=True,width=0.02,head_length=300,head_width=0.1,color='#6c90eb')\n",
    "ax.arrow(x=A.mean(),y=-0.2,dx=-(A.mean()-B.mean()),dy=0,\n",
    "         length_includes_head=True,width=0.02,head_length=300,head_width=0.1,color='#6c90eb')\n",
    "\n",
    "ax.annotate('A',[A.mean()-100,-0.15])\n",
    "ax.annotate('B',[B.mean()-100,-0.15])\n",
    "ax.annotate('C',[C.mean()-100,-0.15])\n",
    "ax.annotate('   $8035\\n(Significant)',[51300,0.09])\n",
    "ax.annotate('      $2735\\n(Not Significant)',[55600,0.09])\n",
    "ax.annotate('   $10770\\n(Significant)',[52700,-0.45])\n",
    "\n",
    "ax.set_ylim(-1,1)\n",
    "ax.set_yticks([])\n",
    "ax.set_title('Difference in Median Sales Between Promotions')\n",
    "\n",
    "plt.show()"
   ]
  },
  {
   "cell_type": "markdown",
   "id": "11d8dacb",
   "metadata": {},
   "source": [
    "This shows that the difference between A and B is significant the difference between B and C is significant, but the different between A and C is not significant. \n",
    "\n",
    "Stores which used promotion A and C both showed significantly higher sales in the first 4 weeks. While stores using promotion A showed slightly higher sales than promotion C (~$2700), this difference was found to not be significant."
   ]
  },
  {
   "cell_type": "markdown",
   "id": "ca88d168",
   "metadata": {},
   "source": [
    "## 5. Conclusion"
   ]
  },
  {
   "cell_type": "markdown",
   "id": "6adc80c3",
   "metadata": {},
   "source": [
    "What conclusions can be drawn from this analysis? Let's return to our original hypothesis statement:\n",
    "\n",
    "*We believe that at least one of the three marketing promotions will result in significantly higher sales of the burger in the first four weeks across randomly selected stores.* \n",
    "\n",
    "In order to test this, we first ran an omnibus test. As the sales data were not normally distributed, we used a non-parametric Kruskal-Wallis test. The result of this test indicated that the median sales were not all the same - there was a significant difference in sales for at least one of the groups.\n",
    "\n",
    "In order to determine which of these groups is significantly different, we ran a post-hoc Tukey's HSD test. The result of this test indicated that stores using promotion A and C had higher sales than those using promotion B, and this difference was significant (p < 0.05). \n",
    "\n",
    "Since the difference between A and C was not found to be significant, the fast food restaurant could use either of the two promotions. However, our findings showed that they should not use promotion B to market the new burger."
   ]
  },
  {
   "cell_type": "markdown",
   "id": "b0119d3d",
   "metadata": {},
   "source": [
    "How could we improve the study?\n",
    "\n",
    "- Add control group with no marketing campaign. Can tell if there is any point running the campaign at all.\n",
    "- Control for market size better\n",
    "- Control for market better\n",
    "- Control for age of store better"
   ]
  },
  {
   "cell_type": "markdown",
   "id": "5c95daee",
   "metadata": {},
   "source": [
    "## 6. References\n",
    "\n",
    "Anasatasiia Chebotina's Notebook:\n",
    "https://www.kaggle.com/code/chebotinaa/a-b-testing-of-fast-food-marketing-campaign/notebook\n",
    "\n",
    "Yunus Turkoglu's Notebook:\n",
    "https://www.kaggle.com/code/yunusemreturkoglu/ab-testing-anova\n",
    "\n",
    "ANOVA in Python:\n",
    "https://www.kaggle.com/code/hamelg/python-for-data-26-anova/notebook\n",
    "\n",
    "Calculating sample size:\n",
    "https://www.youtube.com/watch?v=KC1nwY7YCUE\n",
    "\n",
    "A/B Testing Notebook:\n",
    "https://www.kaggle.com/code/ekrembayar/a-b-testing-step-by-step-hypothesis-testing\n",
    "\n",
    "A/B Testing Video:\n",
    "https://www.youtube.com/watch?v=DUNk4GPZ9bw\n",
    "\n",
    "Hypothesis Statement:\n",
    "https://www.optimizely.com/insights/blog/why-an-experiment-without-a-hypothesis-is-dead-on-arrival/#:~:text=A%20hypothesis%20is%20a%20prediction,%2C%20not%20open%2Dended%20questions.\n",
    "\n",
    "MDE:\n",
    "https://towardsdatascience.com/how-to-set-the-minimum-detectable-effect-in-ab-tests-fe07f8002d6d\n",
    "\n",
    "Power:\n",
    "https://www.youtube.com/watch?v=6_Cuz0QqRWc\n",
    "\n",
    "Multiple comparison tests:\n",
    "https://www.ncbi.nlm.nih.gov/pmc/articles/PMC6193594/\n",
    "\n",
    "Kruskal-Wallis test:\n",
    "https://influentialpoints.com/Training/Kruskal-Wallis_ANOVA_use_and_misuse.htm#:~:text=The%20Kruskal%2DWallis%20one%2Dway,test%20of%20dominance%20between%20distributions.\n",
    "\n",
    "ANOVA Assumptions:\n",
    "https://www.quality-control-plan.com/StatGuide/oneway_anova_ass_viol.htm#Non-normality"
   ]
  },
  {
   "cell_type": "code",
   "execution_count": null,
   "id": "c5fda096",
   "metadata": {},
   "outputs": [],
   "source": []
  }
 ],
 "metadata": {
  "kernelspec": {
   "display_name": "Python 3 (ipykernel)",
   "language": "python",
   "name": "python3"
  },
  "language_info": {
   "codemirror_mode": {
    "name": "ipython",
    "version": 3
   },
   "file_extension": ".py",
   "mimetype": "text/x-python",
   "name": "python",
   "nbconvert_exporter": "python",
   "pygments_lexer": "ipython3",
   "version": "3.9.12"
  }
 },
 "nbformat": 4,
 "nbformat_minor": 5
}
